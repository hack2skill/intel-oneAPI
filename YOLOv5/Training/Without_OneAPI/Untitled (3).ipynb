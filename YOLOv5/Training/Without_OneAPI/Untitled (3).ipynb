{
 "cells": [
  {
   "cell_type": "code",
   "execution_count": 1,
   "id": "6eb1f5c0-a92f-4052-87f9-b6b0d393e834",
   "metadata": {},
   "outputs": [
    {
     "name": "stdout",
     "output_type": "stream",
     "text": [
      "/home/u196253/H2S/YOLOv5/Training/Without_OneAPI/yolov5\n"
     ]
    }
   ],
   "source": [
    "%cd yolov5"
   ]
  },
  {
   "cell_type": "code",
   "execution_count": 3,
   "id": "1cfcb71e-a4d4-44da-b991-347a1d015bce",
   "metadata": {},
   "outputs": [
    {
     "name": "stdout",
     "output_type": "stream",
     "text": [
      "Defaulting to user installation because normal site-packages is not writeable\n",
      "Requirement already satisfied: gitpython>=3.1.30 in /home/u196253/.local/lib/python3.9/site-packages (from -r requirements.txt (line 5)) (3.1.31)\n",
      "Requirement already satisfied: matplotlib>=3.3 in /glob/development-tools/versions/oneapi/2023.1.2/oneapi/intelpython/python3.9/lib/python3.9/site-packages (from -r requirements.txt (line 6)) (3.7.1)\n",
      "Requirement already satisfied: numpy>=1.18.5 in /home/u196253/.local/lib/python3.9/site-packages (from -r requirements.txt (line 7)) (1.22.4)\n",
      "Requirement already satisfied: opencv-python>=4.1.1 in /home/u196253/.local/lib/python3.9/site-packages (from -r requirements.txt (line 8)) (4.7.0.72)\n",
      "Requirement already satisfied: Pillow>=7.1.2 in /glob/development-tools/versions/oneapi/2023.1.2/oneapi/intelpython/python3.9/lib/python3.9/site-packages (from -r requirements.txt (line 9)) (9.5.0)\n",
      "Requirement already satisfied: psutil in /glob/development-tools/versions/oneapi/2023.1.2/oneapi/intelpython/python3.9/lib/python3.9/site-packages (from -r requirements.txt (line 10)) (5.9.5)\n",
      "Requirement already satisfied: PyYAML>=5.3.1 in /glob/development-tools/versions/oneapi/2023.1.2/oneapi/intelpython/python3.9/lib/python3.9/site-packages (from -r requirements.txt (line 11)) (6.0)\n",
      "Requirement already satisfied: requests>=2.23.0 in /glob/development-tools/versions/oneapi/2023.1.2/oneapi/intelpython/python3.9/lib/python3.9/site-packages (from -r requirements.txt (line 12)) (2.28.1)\n",
      "Requirement already satisfied: scipy>=1.4.1 in /glob/development-tools/versions/oneapi/2023.1.2/oneapi/intelpython/python3.9/lib/python3.9/site-packages (from -r requirements.txt (line 13)) (1.7.3)\n",
      "Requirement already satisfied: thop>=0.1.1 in /home/u196253/.local/lib/python3.9/site-packages (from -r requirements.txt (line 14)) (0.1.1.post2209072238)\n",
      "Requirement already satisfied: torch>=1.7.0 in /home/u196253/.local/lib/python3.9/site-packages (from -r requirements.txt (line 15)) (2.0.1)\n",
      "Requirement already satisfied: torchvision>=0.8.1 in /home/u196253/.local/lib/python3.9/site-packages (from -r requirements.txt (line 16)) (0.15.2)\n",
      "Requirement already satisfied: tqdm>=4.64.0 in /glob/development-tools/versions/oneapi/2023.1.2/oneapi/intelpython/python3.9/lib/python3.9/site-packages (from -r requirements.txt (line 17)) (4.64.0)\n",
      "Requirement already satisfied: ultralytics>=8.0.111 in /home/u196253/.local/lib/python3.9/site-packages (from -r requirements.txt (line 18)) (8.0.124)\n",
      "Requirement already satisfied: pandas>=1.1.4 in /glob/development-tools/versions/oneapi/2023.1.2/oneapi/intelpython/python3.9/lib/python3.9/site-packages (from -r requirements.txt (line 27)) (1.5.2)\n",
      "Requirement already satisfied: seaborn>=0.11.0 in /home/u196253/.local/lib/python3.9/site-packages (from -r requirements.txt (line 28)) (0.12.2)\n",
      "Requirement already satisfied: setuptools>=65.5.1 in /glob/development-tools/versions/oneapi/2023.1.2/oneapi/intelpython/python3.9/lib/python3.9/site-packages (from -r requirements.txt (line 42)) (65.6.3)\n",
      "Requirement already satisfied: gitdb<5,>=4.0.1 in /home/u196253/.local/lib/python3.9/site-packages (from gitpython>=3.1.30->-r requirements.txt (line 5)) (4.0.10)\n",
      "Requirement already satisfied: packaging>=20.0 in /glob/development-tools/versions/oneapi/2023.1.2/oneapi/intelpython/python3.9/lib/python3.9/site-packages (from matplotlib>=3.3->-r requirements.txt (line 6)) (22.0)\n",
      "Requirement already satisfied: fonttools>=4.22.0 in /glob/development-tools/versions/oneapi/2023.1.2/oneapi/intelpython/python3.9/lib/python3.9/site-packages (from matplotlib>=3.3->-r requirements.txt (line 6)) (4.39.4)\n",
      "Requirement already satisfied: importlib-resources>=3.2.0 in /glob/development-tools/versions/oneapi/2023.1.2/oneapi/intelpython/python3.9/lib/python3.9/site-packages (from matplotlib>=3.3->-r requirements.txt (line 6)) (5.12.0)\n",
      "Requirement already satisfied: cycler>=0.10 in /glob/development-tools/versions/oneapi/2023.1.2/oneapi/intelpython/python3.9/lib/python3.9/site-packages (from matplotlib>=3.3->-r requirements.txt (line 6)) (0.11.0)\n",
      "Requirement already satisfied: contourpy>=1.0.1 in /glob/development-tools/versions/oneapi/2023.1.2/oneapi/intelpython/python3.9/lib/python3.9/site-packages (from matplotlib>=3.3->-r requirements.txt (line 6)) (1.0.7)\n",
      "Requirement already satisfied: kiwisolver>=1.0.1 in /glob/development-tools/versions/oneapi/2023.1.2/oneapi/intelpython/python3.9/lib/python3.9/site-packages (from matplotlib>=3.3->-r requirements.txt (line 6)) (1.4.2)\n",
      "Requirement already satisfied: python-dateutil>=2.7 in /glob/development-tools/versions/oneapi/2023.1.2/oneapi/intelpython/python3.9/lib/python3.9/site-packages (from matplotlib>=3.3->-r requirements.txt (line 6)) (2.8.2)\n",
      "Requirement already satisfied: pyparsing>=2.3.1 in /glob/development-tools/versions/oneapi/2023.1.2/oneapi/intelpython/python3.9/lib/python3.9/site-packages (from matplotlib>=3.3->-r requirements.txt (line 6)) (3.0.9)\n",
      "Requirement already satisfied: charset-normalizer<3,>=2 in /glob/development-tools/versions/oneapi/2023.1.2/oneapi/intelpython/python3.9/lib/python3.9/site-packages (from requests>=2.23.0->-r requirements.txt (line 12)) (2.0.4)\n",
      "Requirement already satisfied: idna<4,>=2.5 in /glob/development-tools/versions/oneapi/2023.1.2/oneapi/intelpython/python3.9/lib/python3.9/site-packages (from requests>=2.23.0->-r requirements.txt (line 12)) (3.4)\n",
      "Requirement already satisfied: certifi>=2017.4.17 in /glob/development-tools/versions/oneapi/2023.1.2/oneapi/intelpython/python3.9/lib/python3.9/site-packages (from requests>=2.23.0->-r requirements.txt (line 12)) (2022.12.7)\n",
      "Requirement already satisfied: urllib3<1.27,>=1.21.1 in /glob/development-tools/versions/oneapi/2023.1.2/oneapi/intelpython/python3.9/lib/python3.9/site-packages (from requests>=2.23.0->-r requirements.txt (line 12)) (1.26.14)\n",
      "Requirement already satisfied: nvidia-nvtx-cu11==11.7.91 in /home/u196253/.local/lib/python3.9/site-packages (from torch>=1.7.0->-r requirements.txt (line 15)) (11.7.91)\n",
      "Requirement already satisfied: sympy in /home/u196253/.local/lib/python3.9/site-packages (from torch>=1.7.0->-r requirements.txt (line 15)) (1.12)\n",
      "Requirement already satisfied: nvidia-cublas-cu11==11.10.3.66 in /home/u196253/.local/lib/python3.9/site-packages (from torch>=1.7.0->-r requirements.txt (line 15)) (11.10.3.66)\n",
      "Requirement already satisfied: networkx in /home/u196253/.local/lib/python3.9/site-packages (from torch>=1.7.0->-r requirements.txt (line 15)) (3.1)\n",
      "Requirement already satisfied: nvidia-curand-cu11==10.2.10.91 in /home/u196253/.local/lib/python3.9/site-packages (from torch>=1.7.0->-r requirements.txt (line 15)) (10.2.10.91)\n",
      "Requirement already satisfied: nvidia-cusolver-cu11==11.4.0.1 in /home/u196253/.local/lib/python3.9/site-packages (from torch>=1.7.0->-r requirements.txt (line 15)) (11.4.0.1)\n",
      "Requirement already satisfied: triton==2.0.0 in /home/u196253/.local/lib/python3.9/site-packages (from torch>=1.7.0->-r requirements.txt (line 15)) (2.0.0)\n",
      "Requirement already satisfied: nvidia-cuda-nvrtc-cu11==11.7.99 in /home/u196253/.local/lib/python3.9/site-packages (from torch>=1.7.0->-r requirements.txt (line 15)) (11.7.99)\n",
      "Requirement already satisfied: nvidia-cuda-runtime-cu11==11.7.99 in /home/u196253/.local/lib/python3.9/site-packages (from torch>=1.7.0->-r requirements.txt (line 15)) (11.7.99)\n",
      "Requirement already satisfied: nvidia-cudnn-cu11==8.5.0.96 in /home/u196253/.local/lib/python3.9/site-packages (from torch>=1.7.0->-r requirements.txt (line 15)) (8.5.0.96)\n",
      "Requirement already satisfied: typing-extensions in /glob/development-tools/versions/oneapi/2023.1.2/oneapi/intelpython/python3.9/lib/python3.9/site-packages (from torch>=1.7.0->-r requirements.txt (line 15)) (4.6.3)\n",
      "Requirement already satisfied: nvidia-cuda-cupti-cu11==11.7.101 in /home/u196253/.local/lib/python3.9/site-packages (from torch>=1.7.0->-r requirements.txt (line 15)) (11.7.101)\n",
      "Requirement already satisfied: nvidia-cusparse-cu11==11.7.4.91 in /home/u196253/.local/lib/python3.9/site-packages (from torch>=1.7.0->-r requirements.txt (line 15)) (11.7.4.91)\n",
      "Requirement already satisfied: filelock in /home/u196253/.local/lib/python3.9/site-packages (from torch>=1.7.0->-r requirements.txt (line 15)) (3.12.2)\n",
      "Requirement already satisfied: nvidia-cufft-cu11==10.9.0.58 in /home/u196253/.local/lib/python3.9/site-packages (from torch>=1.7.0->-r requirements.txt (line 15)) (10.9.0.58)\n",
      "Requirement already satisfied: nvidia-nccl-cu11==2.14.3 in /home/u196253/.local/lib/python3.9/site-packages (from torch>=1.7.0->-r requirements.txt (line 15)) (2.14.3)\n",
      "Requirement already satisfied: jinja2 in /home/u196253/.local/lib/python3.9/site-packages (from torch>=1.7.0->-r requirements.txt (line 15)) (3.1.2)\n",
      "Requirement already satisfied: wheel in /glob/development-tools/versions/oneapi/2023.1.2/oneapi/intelpython/python3.9/lib/python3.9/site-packages (from nvidia-cublas-cu11==11.10.3.66->torch>=1.7.0->-r requirements.txt (line 15)) (0.38.4)\n",
      "Requirement already satisfied: lit in /home/u196253/.local/lib/python3.9/site-packages (from triton==2.0.0->torch>=1.7.0->-r requirements.txt (line 15)) (16.0.6)\n",
      "Requirement already satisfied: cmake in /home/u196253/.local/lib/python3.9/site-packages (from triton==2.0.0->torch>=1.7.0->-r requirements.txt (line 15)) (3.26.4)\n",
      "Requirement already satisfied: pytz>=2020.1 in /glob/development-tools/versions/oneapi/2023.1.2/oneapi/intelpython/python3.9/lib/python3.9/site-packages (from pandas>=1.1.4->-r requirements.txt (line 27)) (2022.7)\n",
      "Requirement already satisfied: smmap<6,>=3.0.1 in /home/u196253/.local/lib/python3.9/site-packages (from gitdb<5,>=4.0.1->gitpython>=3.1.30->-r requirements.txt (line 5)) (5.0.0)\n",
      "Requirement already satisfied: zipp>=3.1.0 in /glob/development-tools/versions/oneapi/2023.1.2/oneapi/intelpython/python3.9/lib/python3.9/site-packages (from importlib-resources>=3.2.0->matplotlib>=3.3->-r requirements.txt (line 6)) (3.15.0)\n",
      "Requirement already satisfied: six>=1.5 in /glob/development-tools/versions/oneapi/2023.1.2/oneapi/intelpython/python3.9/lib/python3.9/site-packages (from python-dateutil>=2.7->matplotlib>=3.3->-r requirements.txt (line 6)) (1.16.0)\n",
      "Requirement already satisfied: MarkupSafe>=2.0 in /home/u196253/.local/lib/python3.9/site-packages (from jinja2->torch>=1.7.0->-r requirements.txt (line 15)) (2.1.3)\n",
      "Requirement already satisfied: mpmath>=0.19 in /home/u196253/.local/lib/python3.9/site-packages (from sympy->torch>=1.7.0->-r requirements.txt (line 15)) (1.3.0)\n",
      "Setup complete. Using torch 2.0.1+cu117 CPU\n"
     ]
    }
   ],
   "source": [
    "!pip install -r requirements.txt\n",
    "import torch\n",
    "\n",
    "from IPython.display import Image, clear_output\n",
    "from utils.downloads import attempt_download\n",
    "\n",
    "\n",
    "print('Setup complete. Using torch %s %s' % (torch.__version__, torch.cuda.get_device_properties(0) if torch.cuda.is_available() else 'CPU'))"
   ]
  },
  {
   "cell_type": "code",
   "execution_count": 4,
   "id": "116bb415-c16e-4990-93a7-f67344271099",
   "metadata": {},
   "outputs": [],
   "source": [
    "import yaml\n",
    "with open('dataset/data.yaml', 'r') as stream:\n",
    "    num_classes = str(yaml.safe_load(stream)['nc'])"
   ]
  },
  {
   "cell_type": "code",
   "execution_count": 5,
   "id": "c14d4b2b-46b7-48f5-a303-0353b53f5d8c",
   "metadata": {},
   "outputs": [],
   "source": [
    "from IPython.core.magic import register_line_cell_magic\n",
    "\n",
    "@register_line_cell_magic\n",
    "def writetemplate(line, cell):\n",
    "    with open(line, 'w') as f:\n",
    "        f.write(cell.format(**globals()))"
   ]
  },
  {
   "cell_type": "code",
   "execution_count": 6,
   "id": "bedf4517-baba-4df4-9fa9-5f2224a901f0",
   "metadata": {},
   "outputs": [],
   "source": [
    "%%writetemplate models/custom_yolov5s.yaml\n",
    "\n",
    "# parameters\n",
    "nc: {num_classes}  # number of classes\n",
    "depth_multiple: 0.33  # model depth multiple\n",
    "width_multiple: 0.50  # layer channel multiple\n",
    "\n",
    "# anchors\n",
    "anchors:\n",
    "  - [10,13, 16,30, 33,23]  # P3/8\n",
    "  - [30,61, 62,45, 59,119]  # P4/16\n",
    "  - [116,90, 156,198, 373,326]  # P5/32\n",
    "\n",
    "# YOLOv5 backbone\n",
    "backbone:\n",
    "  # [from, number, module, args]\n",
    "  [[-1, 1, Focus, [64, 3]],  # 0-P1/2\n",
    "   [-1, 1, Conv, [128, 3, 2]],  # 1-P2/4\n",
    "   [-1, 3, BottleneckCSP, [128]],\n",
    "   [-1, 1, Conv, [256, 3, 2]],  # 3-P3/8\n",
    "   [-1, 9, BottleneckCSP, [256]],\n",
    "   [-1, 1, Conv, [512, 3, 2]],  # 5-P4/16\n",
    "   [-1, 9, BottleneckCSP, [512]],\n",
    "   [-1, 1, Conv, [1024, 3, 2]],  # 7-P5/32\n",
    "   [-1, 1, SPP, [1024, [5, 9, 13]]],\n",
    "   [-1, 3, BottleneckCSP, [1024, False]],  # 9\n",
    "  ]\n",
    "\n",
    "# YOLOv5 head\n",
    "head:\n",
    "  [[-1, 1, Conv, [512, 1, 1]],\n",
    "   [-1, 1, nn.Upsample, [None, 2, 'nearest']],\n",
    "   [[-1, 6], 1, Concat, [1]],  # cat backbone P4\n",
    "   [-1, 3, BottleneckCSP, [512, False]],  # 13\n",
    "\n",
    "   [-1, 1, Conv, [256, 1, 1]],\n",
    "   [-1, 1, nn.Upsample, [None, 2, 'nearest']],\n",
    "   [[-1, 4], 1, Concat, [1]],  # cat backbone P3\n",
    "   [-1, 3, BottleneckCSP, [256, False]],  # 17 (P3/8-small)\n",
    "\n",
    "   [-1, 1, Conv, [256, 3, 2]],\n",
    "   [[-1, 14], 1, Concat, [1]],  # cat head P4\n",
    "   [-1, 3, BottleneckCSP, [512, False]],  # 20 (P4/16-medium)\n",
    "\n",
    "   [-1, 1, Conv, [512, 3, 2]],\n",
    "   [[-1, 10], 1, Concat, [1]],  # cat head P5\n",
    "   [-1, 3, BottleneckCSP, [1024, False]],  # 23 (P5/32-large)\n",
    "\n",
    "   [[17, 20, 23], 1, Detect, [nc, anchors]],  # Detect(P3, P4, P5)\n",
    "  ]"
   ]
  },
  {
   "cell_type": "code",
   "execution_count": null,
   "id": "ae21f4d8-9272-48fc-8692-fcbbe135a74f",
   "metadata": {},
   "outputs": [],
   "source": [
    "python train.py --img 640 --batch 4 --epochs 3 --data dataset/data.yaml --cfg models/custom_yolov5s.yaml --weights '' --name yolov5s_results"
   ]
  }
 ],
 "metadata": {
  "kernelspec": {
   "display_name": "myenv",
   "language": "python",
   "name": "myenv"
  },
  "language_info": {
   "codemirror_mode": {
    "name": "ipython",
    "version": 3
   },
   "file_extension": ".py",
   "mimetype": "text/x-python",
   "name": "python",
   "nbconvert_exporter": "python",
   "pygments_lexer": "ipython3",
   "version": "3.9.16"
  }
 },
 "nbformat": 4,
 "nbformat_minor": 5
}
