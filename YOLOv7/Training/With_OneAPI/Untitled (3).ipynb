{
 "cells": [
  {
   "cell_type": "code",
   "execution_count": null,
   "id": "2cc97166-5041-4df3-b0f9-d7c1e8897c36",
   "metadata": {},
   "outputs": [],
   "source": [
    "!git clone https://github.com/SkalskiP/yolov7.git\n",
    "%cd yolov7\n",
    "!git checkout fix/problems_associated_with_the_latest_versions_of_pytorch_and_numpy\n",
    "!pip install -r requirements.txt"
   ]
  },
  {
   "cell_type": "code",
   "execution_count": null,
   "id": "095d6ec3-e4cd-44b8-be85-635139514582",
   "metadata": {},
   "outputs": [],
   "source": [
    "!wandb disabled\n",
    "%cd yolov7\n",
    "!python train.py --epochs 3 --workers 8 --device cpu --batch-size 4 --data dataset/data.yaml --img 640 640 --cfg cfg/training/yolov7.yaml --weights 'yolov7_training' --name yolov7 --hyp data/hyp.scratch.p5.yaml"
   ]
  }
 ],
 "metadata": {
  "kernelspec": {
   "display_name": "myenv",
   "language": "python",
   "name": "myenv"
  },
  "language_info": {
   "codemirror_mode": {
    "name": "ipython",
    "version": 3
   },
   "file_extension": ".py",
   "mimetype": "text/x-python",
   "name": "python",
   "nbconvert_exporter": "python",
   "pygments_lexer": "ipython3",
   "version": "3.9.16"
  }
 },
 "nbformat": 4,
 "nbformat_minor": 5
}
