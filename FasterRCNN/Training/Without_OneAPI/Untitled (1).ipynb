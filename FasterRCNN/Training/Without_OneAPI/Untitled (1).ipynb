{
 "cells": [
  {
   "cell_type": "code",
   "execution_count": 1,
   "id": "a43d30b9-5f25-4649-87e3-f18a8f2f356b",
   "metadata": {},
   "outputs": [
    {
     "name": "stdout",
     "output_type": "stream",
     "text": [
      "/home/u196253/H2S/FasterRCNN/Training/Without_OneAPI/fastercnn-pytorch-training-pipeline\n"
     ]
    }
   ],
   "source": [
    "%cd fastercnn-pytorch-training-pipeline"
   ]
  },
  {
   "cell_type": "code",
   "execution_count": 3,
   "id": "308e0617-cd68-4997-9596-91fa5e1f60e9",
   "metadata": {},
   "outputs": [
    {
     "name": "stdout",
     "output_type": "stream",
     "text": [
      "Writing data_configs/custom_data.yaml\n"
     ]
    }
   ],
   "source": [
    "%%writefile data_configs/custom_data.yaml\n",
    "# Images and labels direcotry should be relative to train.py\n",
    "TRAIN_DIR_IMAGES: '/home/u196253/H2S/FasterRCNN/Training/Without_OneAPI/fastercnn-pytorch-training-pipeline/dataset/train'\n",
    "TRAIN_DIR_LABELS: '/home/u196253/H2S/FasterRCNN/Training/Without_OneAPI/fastercnn-pytorch-training-pipeline/dataset/train'\n",
    "VALID_DIR_IMAGES: '/home/u196253/H2S/FasterRCNN/Training/Without_OneAPI/fastercnn-pytorch-training-pipeline/dataset/valid'\n",
    "VALID_DIR_LABELS: '/home/u196253/H2S/FasterRCNN/Training/Without_OneAPI/fastercnn-pytorch-training-pipeline/dataset/valid'\n",
    "\n",
    "# Class names.\n",
    "CLASSES: [\n",
    "    '__background__',\n",
    "    'bike', 'bus', 'car', 'motor', 'person', 'rider', 'traffic light', 'traffic sign', 'train', 'truck'\n",
    "    ]\n",
    "\n",
    "# Number of classes (object classes + 1 for background class in Faster RCNN).\n",
    "NC: 11\n",
    "\n",
    "# Whether to save the predictions of the validation set while training.\n",
    "SAVE_VALID_PREDICTION_IMAGES: True"
   ]
  },
  {
   "cell_type": "code",
   "execution_count": 2,
   "id": "82894f70-5d0e-4c4c-848c-d7d427627428",
   "metadata": {},
   "outputs": [
    {
     "name": "stdout",
     "output_type": "stream",
     "text": [
      "/bin/bash: wandb: command not found\n",
      "^C\n"
     ]
    }
   ],
   "source": [
    "!wandb disabled\n",
    "!python train.py --model fasterrcnn_resnet50_fpn --epochs 1 --data data_configs/custom_data.yaml --mosaic 0 --batch 8 -ims 640 --name results"
   ]
  },
  {
   "cell_type": "code",
   "execution_count": null,
   "id": "721db497-00c6-4609-b85f-d5bb06f0c06c",
   "metadata": {},
   "outputs": [],
   "source": []
  }
 ],
 "metadata": {
  "kernelspec": {
   "display_name": "myenv",
   "language": "python",
   "name": "myenv"
  },
  "language_info": {
   "codemirror_mode": {
    "name": "ipython",
    "version": 3
   },
   "file_extension": ".py",
   "mimetype": "text/x-python",
   "name": "python",
   "nbconvert_exporter": "python",
   "pygments_lexer": "ipython3",
   "version": "3.9.16"
  }
 },
 "nbformat": 4,
 "nbformat_minor": 5
}
