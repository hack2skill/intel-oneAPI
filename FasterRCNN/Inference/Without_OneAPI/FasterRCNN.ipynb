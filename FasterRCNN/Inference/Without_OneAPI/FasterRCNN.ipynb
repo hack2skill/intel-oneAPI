{
 "cells": [
  {
   "cell_type": "code",
   "execution_count": 1,
   "id": "ac296025-507c-4f91-bb58-f32b0dc550c0",
   "metadata": {},
   "outputs": [
    {
     "name": "stdout",
     "output_type": "stream",
     "text": [
      "Cloning into 'fasterrcnn-pytorch-training-pipeline'...\n",
      "remote: Enumerating objects: 1238, done.\u001b[K\n",
      "remote: Counting objects: 100% (335/335), done.\u001b[K\n",
      "remote: Compressing objects: 100% (92/92), done.\u001b[K\n",
      "remote: Total 1238 (delta 258), reused 253 (delta 243), pack-reused 903\u001b[K\n",
      "Receiving objects: 100% (1238/1238), 10.56 MiB | 3.92 MiB/s, done.\n",
      "Resolving deltas: 100% (840/840), done.\n"
     ]
    }
   ],
   "source": [
    "!git clone https://github.com/sovit-123/fasterrcnn-pytorch-training-pipeline.git"
   ]
  },
  {
   "cell_type": "code",
   "execution_count": 2,
   "id": "f12bc610-9212-4575-b77c-81518f766239",
   "metadata": {},
   "outputs": [
    {
     "name": "stdout",
     "output_type": "stream",
     "text": [
      "/home/u196253/H2S/FasterRCNN/Training/Without_OneAPI/fastercnn-pytorch-training-pipeline\n"
     ]
    }
   ],
   "source": [
    "%cd /home/u196253/H2S/FasterRCNN/Training/Without_OneAPI/fastercnn-pytorch-training-pipeline"
   ]
  },
  {
   "cell_type": "code",
   "execution_count": null,
   "id": "64a3fc8d-ea3a-432f-bd40-f4d2ba5bb55b",
   "metadata": {},
   "outputs": [
    {
     "name": "stdout",
     "output_type": "stream",
     "text": [
      "Intel(R) Extension for Scikit-learn* enabled (https://github.com/intel/scikit-learn-intelex)\n",
      "Frame: 1, Forward pass FPS: 0.075, Forward pass time: 13.300 seconds, Forward pass + annotation time: 13.302 seconds\n",
      "Frame: 2, Forward pass FPS: 0.066, Forward pass time: 15.122 seconds, Forward pass + annotation time: 15.128 seconds\n",
      "Frame: 3, Forward pass FPS: 0.097, Forward pass time: 10.265 seconds, Forward pass + annotation time: 10.267 seconds\n",
      "Frame: 4, Forward pass FPS: 0.083, Forward pass time: 12.001 seconds, Forward pass + annotation time: 12.003 seconds\n",
      "Frame: 5, Forward pass FPS: 0.061, Forward pass time: 16.431 seconds, Forward pass + annotation time: 16.432 seconds\n",
      "Frame: 6, Forward pass FPS: 0.084, Forward pass time: 11.857 seconds, Forward pass + annotation time: 11.859 seconds\n",
      "Frame: 7, Forward pass FPS: 0.064, Forward pass time: 15.624 seconds, Forward pass + annotation time: 15.628 seconds\n",
      "Frame: 8, Forward pass FPS: 0.086, Forward pass time: 11.622 seconds, Forward pass + annotation time: 11.623 seconds\n",
      "Frame: 9, Forward pass FPS: 0.058, Forward pass time: 17.177 seconds, Forward pass + annotation time: 17.186 seconds\n",
      "Frame: 10, Forward pass FPS: 0.059, Forward pass time: 17.048 seconds, Forward pass + annotation time: 17.054 seconds\n",
      "Frame: 11, Forward pass FPS: 0.080, Forward pass time: 12.460 seconds, Forward pass + annotation time: 12.462 seconds\n",
      "Frame: 12, Forward pass FPS: 0.086, Forward pass time: 11.654 seconds, Forward pass + annotation time: 11.656 seconds\n",
      "Frame: 13, Forward pass FPS: 0.065, Forward pass time: 15.335 seconds, Forward pass + annotation time: 15.345 seconds\n",
      "Frame: 14, Forward pass FPS: 0.080, Forward pass time: 12.554 seconds, Forward pass + annotation time: 12.556 seconds\n",
      "Frame: 15, Forward pass FPS: 0.058, Forward pass time: 17.114 seconds, Forward pass + annotation time: 17.124 seconds\n",
      "Frame: 16, Forward pass FPS: 0.062, Forward pass time: 16.213 seconds, Forward pass + annotation time: 16.215 seconds\n",
      "Frame: 17, Forward pass FPS: 0.080, Forward pass time: 12.484 seconds, Forward pass + annotation time: 12.486 seconds\n",
      "Frame: 18, Forward pass FPS: 0.058, Forward pass time: 17.336 seconds, Forward pass + annotation time: 17.339 seconds\n",
      "Frame: 19, Forward pass FPS: 0.063, Forward pass time: 15.960 seconds, Forward pass + annotation time: 15.967 seconds\n",
      "Frame: 20, Forward pass FPS: 0.090, Forward pass time: 11.151 seconds, Forward pass + annotation time: 11.157 seconds\n",
      "Frame: 21, Forward pass FPS: 0.063, Forward pass time: 15.806 seconds, Forward pass + annotation time: 15.816 seconds\n",
      "Frame: 22, Forward pass FPS: 0.091, Forward pass time: 11.013 seconds, Forward pass + annotation time: 11.015 seconds\n",
      "Frame: 23, Forward pass FPS: 0.087, Forward pass time: 11.437 seconds, Forward pass + annotation time: 11.439 seconds\n",
      "Frame: 24, Forward pass FPS: 0.077, Forward pass time: 13.029 seconds, Forward pass + annotation time: 13.031 seconds\n",
      "Frame: 25, Forward pass FPS: 0.083, Forward pass time: 12.052 seconds, Forward pass + annotation time: 12.058 seconds\n",
      "Frame: 26, Forward pass FPS: 0.083, Forward pass time: 12.019 seconds, Forward pass + annotation time: 12.021 seconds\n",
      "Frame: 27, Forward pass FPS: 0.083, Forward pass time: 11.977 seconds, Forward pass + annotation time: 11.979 seconds\n",
      "Frame: 28, Forward pass FPS: 0.095, Forward pass time: 10.492 seconds, Forward pass + annotation time: 10.494 seconds\n",
      "Frame: 29, Forward pass FPS: 0.093, Forward pass time: 10.713 seconds, Forward pass + annotation time: 10.715 seconds\n",
      "Frame: 30, Forward pass FPS: 0.095, Forward pass time: 10.481 seconds, Forward pass + annotation time: 10.483 seconds\n",
      "Frame: 31, Forward pass FPS: 0.083, Forward pass time: 12.046 seconds, Forward pass + annotation time: 12.049 seconds\n",
      "Frame: 32, Forward pass FPS: 0.062, Forward pass time: 16.177 seconds, Forward pass + annotation time: 16.183 seconds\n",
      "Frame: 33, Forward pass FPS: 0.088, Forward pass time: 11.335 seconds, Forward pass + annotation time: 11.338 seconds\n",
      "Frame: 34, Forward pass FPS: 0.104, Forward pass time: 9.634 seconds, Forward pass + annotation time: 9.645 seconds\n",
      "Frame: 35, Forward pass FPS: 0.091, Forward pass time: 10.987 seconds, Forward pass + annotation time: 11.002 seconds\n",
      "Frame: 36, Forward pass FPS: 0.081, Forward pass time: 12.324 seconds, Forward pass + annotation time: 12.327 seconds\n",
      "Frame: 37, Forward pass FPS: 0.098, Forward pass time: 10.219 seconds, Forward pass + annotation time: 10.227 seconds\n",
      "Frame: 38, Forward pass FPS: 0.091, Forward pass time: 10.987 seconds, Forward pass + annotation time: 10.990 seconds\n",
      "Frame: 39, Forward pass FPS: 0.084, Forward pass time: 11.849 seconds, Forward pass + annotation time: 11.853 seconds\n",
      "Frame: 40, Forward pass FPS: 0.058, Forward pass time: 17.159 seconds, Forward pass + annotation time: 17.163 seconds\n",
      "Frame: 41, Forward pass FPS: 0.088, Forward pass time: 11.311 seconds, Forward pass + annotation time: 11.319 seconds\n",
      "Frame: 42, Forward pass FPS: 0.083, Forward pass time: 12.084 seconds, Forward pass + annotation time: 12.090 seconds\n",
      "Frame: 43, Forward pass FPS: 0.058, Forward pass time: 17.246 seconds, Forward pass + annotation time: 17.249 seconds\n",
      "Frame: 44, Forward pass FPS: 0.059, Forward pass time: 16.819 seconds, Forward pass + annotation time: 16.827 seconds\n",
      "Frame: 45, Forward pass FPS: 0.070, Forward pass time: 14.219 seconds, Forward pass + annotation time: 14.226 seconds\n",
      "Frame: 46, Forward pass FPS: 0.058, Forward pass time: 17.237 seconds, Forward pass + annotation time: 17.241 seconds\n",
      "Frame: 47, Forward pass FPS: 0.092, Forward pass time: 10.856 seconds, Forward pass + annotation time: 10.861 seconds\n",
      "Frame: 48, Forward pass FPS: 0.076, Forward pass time: 13.191 seconds, Forward pass + annotation time: 13.194 seconds\n",
      "Frame: 49, Forward pass FPS: 0.062, Forward pass time: 16.254 seconds, Forward pass + annotation time: 16.260 seconds\n",
      "Frame: 50, Forward pass FPS: 0.058, Forward pass time: 17.260 seconds, Forward pass + annotation time: 17.263 seconds\n",
      "Frame: 51, Forward pass FPS: 0.098, Forward pass time: 10.237 seconds, Forward pass + annotation time: 10.240 seconds\n",
      "Frame: 52, Forward pass FPS: 0.092, Forward pass time: 10.860 seconds, Forward pass + annotation time: 10.864 seconds\n",
      "Frame: 53, Forward pass FPS: 0.083, Forward pass time: 12.015 seconds, Forward pass + annotation time: 12.018 seconds\n",
      "Frame: 54, Forward pass FPS: 0.062, Forward pass time: 16.056 seconds, Forward pass + annotation time: 16.059 seconds\n",
      "Frame: 55, Forward pass FPS: 0.094, Forward pass time: 10.624 seconds, Forward pass + annotation time: 10.636 seconds\n",
      "Frame: 56, Forward pass FPS: 0.085, Forward pass time: 11.752 seconds, Forward pass + annotation time: 11.756 seconds\n",
      "Frame: 57, Forward pass FPS: 0.092, Forward pass time: 10.820 seconds, Forward pass + annotation time: 10.824 seconds\n",
      "Frame: 58, Forward pass FPS: 0.087, Forward pass time: 11.456 seconds, Forward pass + annotation time: 11.460 seconds\n",
      "Frame: 59, Forward pass FPS: 0.089, Forward pass time: 11.234 seconds, Forward pass + annotation time: 11.243 seconds\n",
      "Frame: 60, Forward pass FPS: 0.082, Forward pass time: 12.159 seconds, Forward pass + annotation time: 12.172 seconds\n"
     ]
    }
   ],
   "source": [
    "!python inference_video.py"
   ]
  },
  {
   "cell_type": "code",
   "execution_count": null,
   "id": "6da71ef5-df6a-4325-a3b2-fa08f4b6f015",
   "metadata": {},
   "outputs": [],
   "source": []
  }
 ],
 "metadata": {
  "kernelspec": {
   "display_name": "myenv",
   "language": "python",
   "name": "myenv"
  },
  "language_info": {
   "codemirror_mode": {
    "name": "ipython",
    "version": 3
   },
   "file_extension": ".py",
   "mimetype": "text/x-python",
   "name": "python",
   "nbconvert_exporter": "python",
   "pygments_lexer": "ipython3",
   "version": "3.9.16"
  }
 },
 "nbformat": 4,
 "nbformat_minor": 5
}
